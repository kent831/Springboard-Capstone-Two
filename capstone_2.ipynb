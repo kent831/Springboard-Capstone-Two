{
 "cells": [
  {
   "cell_type": "code",
   "execution_count": 1,
   "id": "7591bc5f",
   "metadata": {},
   "outputs": [],
   "source": [
    "import pandas as pd\n",
    "import numpy as np"
   ]
  },
  {
   "cell_type": "markdown",
   "id": "796565f0",
   "metadata": {},
   "source": [
    "# Introduction\n",
    "\n",
    "In this project, we are going to predict an individual's MBTI personality type based on their chat history. This dataset is retrieved from Kaggle which was collected from the PersonalityCafe forum. The datasets contains only 2 columns: \"type\" and \"posts\". Each row represents an individual's MBTI type and a collection of their posts in the forum. With this dataset, we will be using NLP to preprocess the data and try out different models that will lead to the best performance.\n",
    "\n",
    "My goal in this project is to be a lot more familiar with dealing with text data and state-of-the-art methods in NLP."
   ]
  },
  {
   "cell_type": "markdown",
   "id": "5ef6ad46",
   "metadata": {},
   "source": [
    "# Data Wrangling"
   ]
  },
  {
   "cell_type": "code",
   "execution_count": 2,
   "id": "71452b98",
   "metadata": {},
   "outputs": [
    {
     "data": {
      "text/html": [
       "<div>\n",
       "<style scoped>\n",
       "    .dataframe tbody tr th:only-of-type {\n",
       "        vertical-align: middle;\n",
       "    }\n",
       "\n",
       "    .dataframe tbody tr th {\n",
       "        vertical-align: top;\n",
       "    }\n",
       "\n",
       "    .dataframe thead th {\n",
       "        text-align: right;\n",
       "    }\n",
       "</style>\n",
       "<table border=\"1\" class=\"dataframe\">\n",
       "  <thead>\n",
       "    <tr style=\"text-align: right;\">\n",
       "      <th></th>\n",
       "      <th>type</th>\n",
       "      <th>posts</th>\n",
       "    </tr>\n",
       "  </thead>\n",
       "  <tbody>\n",
       "    <tr>\n",
       "      <th>0</th>\n",
       "      <td>INFJ</td>\n",
       "      <td>'http://www.youtube.com/watch?v=qsXHcwe3krw|||...</td>\n",
       "    </tr>\n",
       "    <tr>\n",
       "      <th>1</th>\n",
       "      <td>ENTP</td>\n",
       "      <td>'I'm finding the lack of me in these posts ver...</td>\n",
       "    </tr>\n",
       "    <tr>\n",
       "      <th>2</th>\n",
       "      <td>INTP</td>\n",
       "      <td>'Good one  _____   https://www.youtube.com/wat...</td>\n",
       "    </tr>\n",
       "    <tr>\n",
       "      <th>3</th>\n",
       "      <td>INTJ</td>\n",
       "      <td>'Dear INTP,   I enjoyed our conversation the o...</td>\n",
       "    </tr>\n",
       "    <tr>\n",
       "      <th>4</th>\n",
       "      <td>ENTJ</td>\n",
       "      <td>'You're fired.|||That's another silly misconce...</td>\n",
       "    </tr>\n",
       "  </tbody>\n",
       "</table>\n",
       "</div>"
      ],
      "text/plain": [
       "   type                                              posts\n",
       "0  INFJ  'http://www.youtube.com/watch?v=qsXHcwe3krw|||...\n",
       "1  ENTP  'I'm finding the lack of me in these posts ver...\n",
       "2  INTP  'Good one  _____   https://www.youtube.com/wat...\n",
       "3  INTJ  'Dear INTP,   I enjoyed our conversation the o...\n",
       "4  ENTJ  'You're fired.|||That's another silly misconce..."
      ]
     },
     "execution_count": 2,
     "metadata": {},
     "output_type": "execute_result"
    }
   ],
   "source": [
    "mbti = pd.read_csv(\"mbti_1.csv\")\n",
    "mbti.head()"
   ]
  },
  {
   "cell_type": "code",
   "execution_count": 3,
   "id": "30e2a352",
   "metadata": {},
   "outputs": [
    {
     "name": "stdout",
     "output_type": "stream",
     "text": [
      "<class 'pandas.core.frame.DataFrame'>\n",
      "RangeIndex: 8675 entries, 0 to 8674\n",
      "Data columns (total 2 columns):\n",
      " #   Column  Non-Null Count  Dtype \n",
      "---  ------  --------------  ----- \n",
      " 0   type    8675 non-null   object\n",
      " 1   posts   8675 non-null   object\n",
      "dtypes: object(2)\n",
      "memory usage: 135.7+ KB\n"
     ]
    }
   ],
   "source": [
    "mbti.info()"
   ]
  },
  {
   "cell_type": "code",
   "execution_count": 4,
   "id": "9a9fb369",
   "metadata": {},
   "outputs": [
    {
     "data": {
      "text/plain": [
       "array(['INFJ', 'ENTP', 'INTP', 'INTJ', 'ENTJ', 'ENFJ', 'INFP', 'ENFP',\n",
       "       'ISFP', 'ISTP', 'ISFJ', 'ISTJ', 'ESTP', 'ESFP', 'ESTJ', 'ESFJ'],\n",
       "      dtype=object)"
      ]
     },
     "execution_count": 4,
     "metadata": {},
     "output_type": "execute_result"
    }
   ],
   "source": [
    "mbti[\"type\"].unique()"
   ]
  },
  {
   "cell_type": "code",
   "execution_count": 5,
   "id": "4d8d1186",
   "metadata": {},
   "outputs": [
    {
     "data": {
      "text/html": [
       "<div>\n",
       "<style scoped>\n",
       "    .dataframe tbody tr th:only-of-type {\n",
       "        vertical-align: middle;\n",
       "    }\n",
       "\n",
       "    .dataframe tbody tr th {\n",
       "        vertical-align: top;\n",
       "    }\n",
       "\n",
       "    .dataframe thead th {\n",
       "        text-align: right;\n",
       "    }\n",
       "</style>\n",
       "<table border=\"1\" class=\"dataframe\">\n",
       "  <thead>\n",
       "    <tr style=\"text-align: right;\">\n",
       "      <th></th>\n",
       "      <th>type</th>\n",
       "      <th>post</th>\n",
       "    </tr>\n",
       "  </thead>\n",
       "  <tbody>\n",
       "    <tr>\n",
       "      <th>0</th>\n",
       "      <td>INFJ</td>\n",
       "      <td>'http://www.youtube.com/watch?v=qsXHcwe3krw</td>\n",
       "    </tr>\n",
       "    <tr>\n",
       "      <th>1</th>\n",
       "      <td>INFJ</td>\n",
       "      <td>http://41.media.tumblr.com/tumblr_lfouy03PMA1q...</td>\n",
       "    </tr>\n",
       "    <tr>\n",
       "      <th>2</th>\n",
       "      <td>INFJ</td>\n",
       "      <td>enfp and intj moments  https://www.youtube.com...</td>\n",
       "    </tr>\n",
       "    <tr>\n",
       "      <th>3</th>\n",
       "      <td>INFJ</td>\n",
       "      <td>What has been the most life-changing experienc...</td>\n",
       "    </tr>\n",
       "    <tr>\n",
       "      <th>4</th>\n",
       "      <td>INFJ</td>\n",
       "      <td>http://www.youtube.com/watch?v=vXZeYwwRDw8   h...</td>\n",
       "    </tr>\n",
       "  </tbody>\n",
       "</table>\n",
       "</div>"
      ],
      "text/plain": [
       "   type                                               post\n",
       "0  INFJ        'http://www.youtube.com/watch?v=qsXHcwe3krw\n",
       "1  INFJ  http://41.media.tumblr.com/tumblr_lfouy03PMA1q...\n",
       "2  INFJ  enfp and intj moments  https://www.youtube.com...\n",
       "3  INFJ  What has been the most life-changing experienc...\n",
       "4  INFJ  http://www.youtube.com/watch?v=vXZeYwwRDw8   h..."
      ]
     },
     "execution_count": 5,
     "metadata": {},
     "output_type": "execute_result"
    }
   ],
   "source": [
    "expanded_mbti = pd.merge(mbti[\"type\"], mbti[\"posts\"].str.split(\"|||\", regex = False).explode().rename(\"post\"), \n",
    "                         left_index = True, right_index = True)\n",
    "expanded_mbti = expanded_mbti.reset_index(drop = True)\n",
    "expanded_mbti.head()"
   ]
  },
  {
   "cell_type": "code",
   "execution_count": 6,
   "id": "b7db513d",
   "metadata": {},
   "outputs": [
    {
     "data": {
      "text/plain": [
       "(422845, 2)"
      ]
     },
     "execution_count": 6,
     "metadata": {},
     "output_type": "execute_result"
    }
   ],
   "source": [
    "expanded_mbti.shape"
   ]
  },
  {
   "cell_type": "markdown",
   "id": "1c89d091",
   "metadata": {},
   "source": [
    "Fortunately, the MBTI dataset is a really clean dataset with no missing values. Each row represent a compilation of an individual's posts along with their MBTI type. The individual's posts are split by \"|||\" to distinguish one post from another. Thus, for data wrangling I split these into separate rows, completely disregarding who made these posts since we aim to predict MBTI type without knowledge of the individual and only based off their chats. This gives us a total of 422845 rows from the original 8675, approximating to 48.74 posts per person.\n",
    "\n",
    "We can then proceed with EDA."
   ]
  },
  {
   "cell_type": "markdown",
   "id": "60076324",
   "metadata": {},
   "source": [
    "# Exploratory Data Analysis"
   ]
  },
  {
   "cell_type": "code",
   "execution_count": 7,
   "id": "7396bbf0",
   "metadata": {},
   "outputs": [
    {
     "data": {
      "text/plain": [
       "<AxesSubplot:title={'center':'Number of posts per MBTI type'}>"
      ]
     },
     "execution_count": 7,
     "metadata": {},
     "output_type": "execute_result"
    },
    {
     "data": {
      "image/png": "[encoded data removed]",
      "text/plain": [
       "<Figure size 432x288 with 1 Axes>"
      ]
     },
     "metadata": {
      "needs_background": "light"
     },
     "output_type": "display_data"
    }
   ],
   "source": [
    "ax = expanded_mbti[\"type\"].value_counts().plot(kind = 'bar', title = \"Number of posts per MBTI type\")\n",
    "ax"
   ]
  },
  {
   "cell_type": "code",
   "execution_count": 8,
   "id": "7ff16f4e",
   "metadata": {},
   "outputs": [
    {
     "data": {
      "text/html": [
       "<div>\n",
       "<style scoped>\n",
       "    .dataframe tbody tr th:only-of-type {\n",
       "        vertical-align: middle;\n",
       "    }\n",
       "\n",
       "    .dataframe tbody tr th {\n",
       "        vertical-align: top;\n",
       "    }\n",
       "\n",
       "    .dataframe thead th {\n",
       "        text-align: right;\n",
       "    }\n",
       "</style>\n",
       "<table border=\"1\" class=\"dataframe\">\n",
       "  <thead>\n",
       "    <tr style=\"text-align: right;\">\n",
       "      <th></th>\n",
       "      <th>type</th>\n",
       "      <th>post</th>\n",
       "      <th>I/E</th>\n",
       "      <th>S/N</th>\n",
       "      <th>F/T</th>\n",
       "      <th>P/J</th>\n",
       "    </tr>\n",
       "  </thead>\n",
       "  <tbody>\n",
       "    <tr>\n",
       "      <th>0</th>\n",
       "      <td>INFJ</td>\n",
       "      <td>'http://www.youtube.com/watch?v=qsXHcwe3krw</td>\n",
       "      <td>I</td>\n",
       "      <td>N</td>\n",
       "      <td>F</td>\n",
       "      <td>J</td>\n",
       "    </tr>\n",
       "    <tr>\n",
       "      <th>1</th>\n",
       "      <td>INFJ</td>\n",
       "      <td>http://41.media.tumblr.com/tumblr_lfouy03PMA1q...</td>\n",
       "      <td>I</td>\n",
       "      <td>N</td>\n",
       "      <td>F</td>\n",
       "      <td>J</td>\n",
       "    </tr>\n",
       "    <tr>\n",
       "      <th>2</th>\n",
       "      <td>INFJ</td>\n",
       "      <td>enfp and intj moments  https://www.youtube.com...</td>\n",
       "      <td>I</td>\n",
       "      <td>N</td>\n",
       "      <td>F</td>\n",
       "      <td>J</td>\n",
       "    </tr>\n",
       "    <tr>\n",
       "      <th>3</th>\n",
       "      <td>INFJ</td>\n",
       "      <td>What has been the most life-changing experienc...</td>\n",
       "      <td>I</td>\n",
       "      <td>N</td>\n",
       "      <td>F</td>\n",
       "      <td>J</td>\n",
       "    </tr>\n",
       "    <tr>\n",
       "      <th>4</th>\n",
       "      <td>INFJ</td>\n",
       "      <td>http://www.youtube.com/watch?v=vXZeYwwRDw8   h...</td>\n",
       "      <td>I</td>\n",
       "      <td>N</td>\n",
       "      <td>F</td>\n",
       "      <td>J</td>\n",
       "    </tr>\n",
       "  </tbody>\n",
       "</table>\n",
       "</div>"
      ],
      "text/plain": [
       "   type                                               post I/E S/N F/T P/J\n",
       "0  INFJ        'http://www.youtube.com/watch?v=qsXHcwe3krw   I   N   F   J\n",
       "1  INFJ  http://41.media.tumblr.com/tumblr_lfouy03PMA1q...   I   N   F   J\n",
       "2  INFJ  enfp and intj moments  https://www.youtube.com...   I   N   F   J\n",
       "3  INFJ  What has been the most life-changing experienc...   I   N   F   J\n",
       "4  INFJ  http://www.youtube.com/watch?v=vXZeYwwRDw8   h...   I   N   F   J"
      ]
     },
     "execution_count": 8,
     "metadata": {},
     "output_type": "execute_result"
    }
   ],
   "source": [
    "# Expand table to have a letter per column\n",
    "expanded_mbti[\"I/E\"] = expanded_mbti[\"type\"].str[0]\n",
    "expanded_mbti[\"S/N\"] = expanded_mbti[\"type\"].str[1]\n",
    "expanded_mbti[\"F/T\"] = expanded_mbti[\"type\"].str[2]\n",
    "expanded_mbti[\"P/J\"] = expanded_mbti[\"type\"].str[3]\n",
    "\n",
    "mbti[\"I/E\"] = mbti[\"type\"].str[0]\n",
    "mbti[\"S/N\"] = mbti[\"type\"].str[1]\n",
    "mbti[\"F/T\"] = mbti[\"type\"].str[2]\n",
    "mbti[\"P/J\"] = mbti[\"type\"].str[3]\n",
    "\n",
    "expanded_mbti.head()"
   ]
  },
  {
   "cell_type": "code",
   "execution_count": 9,
   "id": "db336677",
   "metadata": {},
   "outputs": [
    {
     "data": {
      "text/plain": [
       "ISFJ    13.8\n",
       "ESFJ    12.0\n",
       "ISTJ    11.6\n",
       "ISFP     8.8\n",
       "ESTJ     8.7\n",
       "ESFP     8.5\n",
       "ENFP     8.1\n",
       "ISTP     5.4\n",
       "INFP     4.4\n",
       "ESTP     4.3\n",
       "INTP     3.3\n",
       "ENTP     3.2\n",
       "ENFJ     2.5\n",
       "INTJ     2.1\n",
       "ENTJ     1.8\n",
       "INFJ     1.5\n",
       "dtype: float64"
      ]
     },
     "execution_count": 9,
     "metadata": {},
     "output_type": "execute_result"
    }
   ],
   "source": [
    "pop_mbti = pd.Series([11.6, 13.8, 1.5, 2.1, 5.4, 8.8, 4.4, 3.3,\n",
    "                     4.3, 8.5, 8.1, 3.2, 8.7, 12, 2.5, 1.8], \n",
    "                     index = ['ISTJ', 'ISFJ', 'INFJ', 'INTJ', 'ISTP', 'ISFP', 'INFP', 'INTP', 'ESTP',\n",
    "                     'ESFP', 'ENFP', 'ENTP', 'ESTJ', 'ESFJ', 'ENFJ', 'ENTJ'])\n",
    "pop_mbti.sort_values(ascending = False)"
   ]
  },
  {
   "cell_type": "code",
   "execution_count": 10,
   "id": "c2e3cc31",
   "metadata": {},
   "outputs": [
    {
     "data": {
      "text/plain": [
       "INFP    21.1\n",
       "INFJ    16.9\n",
       "INTP    15.0\n",
       "INTJ    12.6\n",
       "ENTP     7.9\n",
       "ENFP     7.8\n",
       "ISTP     3.9\n",
       "ISFP     3.1\n",
       "ENTJ     2.7\n",
       "ISTJ     2.4\n",
       "ENFJ     2.2\n",
       "ISFJ     1.9\n",
       "ESTP     1.0\n",
       "ESFP     0.6\n",
       "ESFJ     0.5\n",
       "ESTJ     0.4\n",
       "Name: type, dtype: float64"
      ]
     },
     "metadata": {},
     "output_type": "display_data"
    },
    {
     "data": {
      "text/plain": [
       "<AxesSubplot:>"
      ]
     },
     "execution_count": 10,
     "metadata": {},
     "output_type": "execute_result"
    },
    {
     "data": {
      "image/png": "[encoded data removed]",
      "text/plain": [
       "<Figure size 432x288 with 1 Axes>"
      ]
     },
     "metadata": {
      "needs_background": "light"
     },
     "output_type": "display_data"
    }
   ],
   "source": [
    "our_mbti = mbti[\"type\"].value_counts(normalize = True).round(3) * 100\n",
    "display(our_mbti)\n",
    "pd.concat([our_mbti, pop_mbti], axis = 1).rename(columns = {\"type\": \"sample\", 0: \"population\"}).plot(kind = 'bar')"
   ]
  },
  {
   "cell_type": "code",
   "execution_count": 11,
   "id": "283f6feb",
   "metadata": {},
   "outputs": [
    {
     "data": {
      "text/html": [
       "<div>\n",
       "<style scoped>\n",
       "    .dataframe tbody tr th:only-of-type {\n",
       "        vertical-align: middle;\n",
       "    }\n",
       "\n",
       "    .dataframe tbody tr th {\n",
       "        vertical-align: top;\n",
       "    }\n",
       "\n",
       "    .dataframe thead th {\n",
       "        text-align: right;\n",
       "    }\n",
       "</style>\n",
       "<table border=\"1\" class=\"dataframe\">\n",
       "  <thead>\n",
       "    <tr style=\"text-align: right;\">\n",
       "      <th></th>\n",
       "      <th>sample</th>\n",
       "      <th>population</th>\n",
       "    </tr>\n",
       "  </thead>\n",
       "  <tbody>\n",
       "    <tr>\n",
       "      <th>J</th>\n",
       "      <td>39.6</td>\n",
       "      <td>54.0</td>\n",
       "    </tr>\n",
       "    <tr>\n",
       "      <th>P</th>\n",
       "      <td>60.4</td>\n",
       "      <td>46.0</td>\n",
       "    </tr>\n",
       "    <tr>\n",
       "      <th>T</th>\n",
       "      <td>45.9</td>\n",
       "      <td>40.4</td>\n",
       "    </tr>\n",
       "    <tr>\n",
       "      <th>F</th>\n",
       "      <td>54.1</td>\n",
       "      <td>59.6</td>\n",
       "    </tr>\n",
       "    <tr>\n",
       "      <th>S</th>\n",
       "      <td>13.8</td>\n",
       "      <td>73.1</td>\n",
       "    </tr>\n",
       "    <tr>\n",
       "      <th>N</th>\n",
       "      <td>86.2</td>\n",
       "      <td>26.9</td>\n",
       "    </tr>\n",
       "    <tr>\n",
       "      <th>E</th>\n",
       "      <td>23.0</td>\n",
       "      <td>49.1</td>\n",
       "    </tr>\n",
       "    <tr>\n",
       "      <th>I</th>\n",
       "      <td>77.0</td>\n",
       "      <td>50.9</td>\n",
       "    </tr>\n",
       "  </tbody>\n",
       "</table>\n",
       "</div>"
      ],
      "text/plain": [
       "   sample  population\n",
       "J    39.6        54.0\n",
       "P    60.4        46.0\n",
       "T    45.9        40.4\n",
       "F    54.1        59.6\n",
       "S    13.8        73.1\n",
       "N    86.2        26.9\n",
       "E    23.0        49.1\n",
       "I    77.0        50.9"
      ]
     },
     "metadata": {},
     "output_type": "display_data"
    },
    {
     "data": {
      "text/plain": [
       "<AxesSubplot:>"
      ]
     },
     "execution_count": 11,
     "metadata": {},
     "output_type": "execute_result"
    },
    {
     "data": {
      "image/png": "[encoded data removed]",
      "text/plain": [
       "<Figure size 432x288 with 1 Axes>"
      ]
     },
     "metadata": {
      "needs_background": "light"
     },
     "output_type": "display_data"
    }
   ],
   "source": [
    "mbti[\"I/E\"] = mbti[\"type\"].str[0]\n",
    "mbti[\"S/N\"] = mbti[\"type\"].str[1]\n",
    "mbti[\"F/T\"] = mbti[\"type\"].str[2]\n",
    "mbti[\"P/J\"] = mbti[\"type\"].str[3]\n",
    "mbti_dist = pd.concat([mbti[col].value_counts(normalize = True) for col in expanded_mbti.iloc[:,-4:].columns], axis = 0)\n",
    "\n",
    "pop_mbti = pop_mbti.reset_index()\n",
    "pop_mbti[[\"a\", \"I/E\", \"S/N\", \"F/T\", \"P/J\", \"b\"]] = pop_mbti[\"index\"].str.split(\"\", expand = True)\n",
    "pop_mbti = pop_mbti.drop(columns = [\"a\", \"b\"])\n",
    "pop_mbti = pop_mbti.rename(columns = {\"index\":\"type\", 0: \"perc\"})\n",
    "\n",
    "pop_dist = pd.concat([pop_mbti.groupby(col).sum(\"perc\") for col in pop_mbti.columns[-4:]])\n",
    "comparison = pd.concat([mbti_dist, pop_dist], axis = 1).rename(columns = {0: \"sample\", \"perc\": \"population\"})\n",
    "comparison[\"sample\"] = comparison[\"sample\"].round(3) * 100\n",
    "display(comparison[::-1])\n",
    "comparison.plot(kind = 'barh')"
   ]
  },
  {
   "cell_type": "markdown",
   "id": "fb492a61",
   "metadata": {},
   "source": [
    "For EDA, we would like to know:\n",
    "1. Total number of posts by each MBTI type\n",
    "2. Our data's distribution of MBTI type\n",
    "3. General population's distribution of MBTI type\n",
    "4. Break MBTI type down into each individual letter (I/E, N/S, F/T, P/J)\n",
    "\n",
    "This will allow us to know the general breakdown of our data, if there are underrepresented classes, and if our data matches that of the general population. To summarize, our data has a very different MBTI type breakdown as opposed to the general population, it seems to be the opposite of it. Where a certain MBTI type is more common in the world, it is less likely to appear in our dataset. \n",
    "\n",
    "Breaking this down into individual MBTI letters, this distinction between our sample and the general population is less severe for J/P (+- 15%) and T/F (+- 5%) personality types, but is still pretty skewed for S/N (+-60%) and I/E (+-25%). \n",
    "\n",
    "To proceed, we can either:\n",
    "1. Create a model with our current dataset which would not be optimal when applied to the general population\n",
    "2. Create data augmentations for underrepresented personality types such that it matches the general population and train a model on it"
   ]
  }
 ],
 "metadata": {
  "kernelspec": {
   "display_name": "Python 3 (clean)",
   "language": "python",
   "name": "python3_clean"
  },
  "language_info": {
   "codemirror_mode": {
    "name": "ipython",
    "version": 3
   },
   "file_extension": ".py",
   "mimetype": "text/x-python",
   "name": "python",
   "nbconvert_exporter": "python",
   "pygments_lexer": "ipython3",
   "version": "3.9.5"
  }
 },
 "nbformat": 4,
 "nbformat_minor": 5
}
